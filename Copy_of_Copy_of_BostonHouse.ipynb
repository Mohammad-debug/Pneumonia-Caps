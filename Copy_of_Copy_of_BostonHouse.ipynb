{
  "nbformat": 4,
  "nbformat_minor": 0,
  "metadata": {
    "colab": {
      "name": "Copy of Copy of BostonHouse.ipynb",
      "provenance": [],
      "collapsed_sections": [],
      "toc_visible": true,
      "mount_file_id": "1WNN_eZ1qOz28U3EaYsG-06Dg2_MRX9IA",
      "authorship_tag": "ABX9TyNK+czE0MKqKxrFnB7SFcIA",
      "include_colab_link": true
    },
    "kernelspec": {
      "name": "python3",
      "display_name": "Python 3"
    },
    "accelerator": "GPU"
  },
  "cells": [
    {
      "cell_type": "markdown",
      "metadata": {
        "id": "view-in-github",
        "colab_type": "text"
      },
      "source": [
        "<a href=\"https://colab.research.google.com/github/Mohammad-debug/Pneumonia-Caps/blob/main/Copy_of_Copy_of_BostonHouse.ipynb\" target=\"_parent\"><img src=\"https://colab.research.google.com/assets/colab-badge.svg\" alt=\"Open In Colab\"/></a>"
      ]
    },
    {
      "cell_type": "code",
      "metadata": {
        "colab": {
          "base_uri": "https://localhost:8080/"
        },
        "id": "hN0yJLBsdB_3",
        "outputId": "9aaec377-be91-41d7-e400-278a2707a3b8"
      },
      "source": [
        "!pip install geppy"
      ],
      "execution_count": 1,
      "outputs": [
        {
          "output_type": "stream",
          "text": [
            "Collecting geppy\n",
            "  Downloading https://files.pythonhosted.org/packages/0d/b7/18bafb1110b188bf59016ef581f9ccb0c85dd9251b910cc233833e874fc1/geppy-0.1.2.tar.gz\n",
            "Collecting deap\n",
            "\u001b[?25l  Downloading https://files.pythonhosted.org/packages/99/d1/803c7a387d8a7e6866160b1541307f88d534da4291572fb32f69d2548afb/deap-1.3.1-cp37-cp37m-manylinux2010_x86_64.whl (157kB)\n",
            "\u001b[K     |████████████████████████████████| 163kB 11.8MB/s \n",
            "\u001b[?25hRequirement already satisfied: numpy in /usr/local/lib/python3.7/dist-packages (from deap->geppy) (1.19.5)\n",
            "Building wheels for collected packages: geppy\n",
            "  Building wheel for geppy (setup.py) ... \u001b[?25l\u001b[?25hdone\n",
            "  Created wheel for geppy: filename=geppy-0.1.2-cp37-none-any.whl size=31772 sha256=bf5790904af878c24e0135b954125d3be7df74c989ef01adee332b8607e065c3\n",
            "  Stored in directory: /root/.cache/pip/wheels/dd/72/b0/626973c605f8c2d7797cf7defc0e3cda716a531999cb5c8577\n",
            "Successfully built geppy\n",
            "Installing collected packages: deap, geppy\n",
            "Successfully installed deap-1.3.1 geppy-0.1.2\n"
          ],
          "name": "stdout"
        }
      ]
    },
    {
      "cell_type": "code",
      "metadata": {
        "id": "qaHmAOjHb1PF"
      },
      "source": [
        "import geppy as gep\n",
        "from deap import creator, base, tools\n",
        "import numpy as np\n",
        "import random\n",
        "\n",
        "import operator \n",
        "import math\n",
        "import datetime\n",
        "\n",
        "# for reproduction\n",
        "s = 0\n",
        "random.seed(s)\n",
        "np.random.seed(s)"
      ],
      "execution_count": 77,
      "outputs": []
    },
    {
      "cell_type": "code",
      "metadata": {
        "colab": {
          "base_uri": "https://localhost:8080/"
        },
        "id": "bKA7rETwdL42",
        "outputId": "bb9ffeae-0fd5-4476-9e70-a5fd916ba252"
      },
      "source": [
        "\n",
        "\n",
        "import os\n",
        "\n",
        "#doublecheck the data is there\n",
        "print(os.listdir(\"/content\"))\n",
        "import pandas as pd\n",
        "\n",
        "# read in the data to pandas\n",
        "PowerPlantData1 = pd.read_csv(\"/content/BOSTON.csv\")\n",
        "\n"
      ],
      "execution_count": 222,
      "outputs": [
        {
          "output_type": "stream",
          "text": [
            "['.config', 'numerical_expression_tree.png', 'drive', 'BOSTON.csv', 'numerical_expression_tree', 'sample_data']\n"
          ],
          "name": "stdout"
        }
      ]
    },
    {
      "cell_type": "markdown",
      "metadata": {
        "id": "hdgTTLyiE1cd"
      },
      "source": [
        "### we must normalize our data for neural networks to perform optimally"
      ]
    },
    {
      "cell_type": "code",
      "metadata": {
        "id": "d6NCcnSDFVlD"
      },
      "source": [
        "from sklearn.preprocessing import MinMaxScaler"
      ],
      "execution_count": 223,
      "outputs": []
    },
    {
      "cell_type": "code",
      "metadata": {
        "id": "oHPSuMSDF1FD"
      },
      "source": [
        "# Lets build our function which will perform the normaliztion\n",
        "def rescale(X):\n",
        "    mean = X.mean()\n",
        "    std = X.std()\n",
        "    scaled_X = [(i - mean)/std for i in X]\n",
        "    return pd.Series(scaled_X)\n",
        "\n",
        "# We will build a new dataframe\n",
        "PowerPlantData = pd.DataFrame(columns=PowerPlantData1.columns)\n",
        "for i in PowerPlantData1.columns:\n",
        "    PowerPlantData[i] = rescale(PowerPlantData1[i])"
      ],
      "execution_count": 224,
      "outputs": []
    },
    {
      "cell_type": "code",
      "metadata": {
        "id": "i7hgv9KCKJpg"
      },
      "source": [
        ""
      ],
      "execution_count": 192,
      "outputs": []
    },
    {
      "cell_type": "code",
      "metadata": {
        "colab": {
          "base_uri": "https://localhost:8080/",
          "height": 194
        },
        "id": "a-pjAUfhjX34",
        "outputId": "da47544c-eaf2-403a-acc1-e20e3317ea63"
      },
      "source": [
        "PowerPlantData.head()"
      ],
      "execution_count": 193,
      "outputs": [
        {
          "output_type": "execute_result",
          "data": {
            "text/html": [
              "<div>\n",
              "<style scoped>\n",
              "    .dataframe tbody tr th:only-of-type {\n",
              "        vertical-align: middle;\n",
              "    }\n",
              "\n",
              "    .dataframe tbody tr th {\n",
              "        vertical-align: top;\n",
              "    }\n",
              "\n",
              "    .dataframe thead th {\n",
              "        text-align: right;\n",
              "    }\n",
              "</style>\n",
              "<table border=\"1\" class=\"dataframe\">\n",
              "  <thead>\n",
              "    <tr style=\"text-align: right;\">\n",
              "      <th></th>\n",
              "      <th>crim</th>\n",
              "      <th>zn</th>\n",
              "      <th>indus</th>\n",
              "      <th>chas</th>\n",
              "      <th>nox</th>\n",
              "      <th>rm</th>\n",
              "      <th>age</th>\n",
              "      <th>dis</th>\n",
              "      <th>rad</th>\n",
              "      <th>tax</th>\n",
              "      <th>ptratio</th>\n",
              "      <th>black</th>\n",
              "      <th>lstat</th>\n",
              "      <th>medv</th>\n",
              "    </tr>\n",
              "  </thead>\n",
              "  <tbody>\n",
              "    <tr>\n",
              "      <th>0</th>\n",
              "      <td>0.00632</td>\n",
              "      <td>18.0</td>\n",
              "      <td>2.31</td>\n",
              "      <td>0</td>\n",
              "      <td>0.538</td>\n",
              "      <td>6.575</td>\n",
              "      <td>65.2</td>\n",
              "      <td>4.0900</td>\n",
              "      <td>1</td>\n",
              "      <td>296.0</td>\n",
              "      <td>15.3</td>\n",
              "      <td>396.90</td>\n",
              "      <td>4.98</td>\n",
              "      <td>24.0</td>\n",
              "    </tr>\n",
              "    <tr>\n",
              "      <th>1</th>\n",
              "      <td>0.02731</td>\n",
              "      <td>0.0</td>\n",
              "      <td>7.07</td>\n",
              "      <td>0</td>\n",
              "      <td>0.469</td>\n",
              "      <td>6.421</td>\n",
              "      <td>78.9</td>\n",
              "      <td>4.9671</td>\n",
              "      <td>2</td>\n",
              "      <td>242.0</td>\n",
              "      <td>17.8</td>\n",
              "      <td>396.90</td>\n",
              "      <td>9.14</td>\n",
              "      <td>21.6</td>\n",
              "    </tr>\n",
              "    <tr>\n",
              "      <th>2</th>\n",
              "      <td>0.02729</td>\n",
              "      <td>0.0</td>\n",
              "      <td>7.07</td>\n",
              "      <td>0</td>\n",
              "      <td>0.469</td>\n",
              "      <td>7.185</td>\n",
              "      <td>61.1</td>\n",
              "      <td>4.9671</td>\n",
              "      <td>2</td>\n",
              "      <td>242.0</td>\n",
              "      <td>17.8</td>\n",
              "      <td>392.83</td>\n",
              "      <td>4.03</td>\n",
              "      <td>34.7</td>\n",
              "    </tr>\n",
              "    <tr>\n",
              "      <th>3</th>\n",
              "      <td>0.03237</td>\n",
              "      <td>0.0</td>\n",
              "      <td>2.18</td>\n",
              "      <td>0</td>\n",
              "      <td>0.458</td>\n",
              "      <td>6.998</td>\n",
              "      <td>45.8</td>\n",
              "      <td>6.0622</td>\n",
              "      <td>3</td>\n",
              "      <td>222.0</td>\n",
              "      <td>18.7</td>\n",
              "      <td>394.63</td>\n",
              "      <td>2.94</td>\n",
              "      <td>33.4</td>\n",
              "    </tr>\n",
              "    <tr>\n",
              "      <th>4</th>\n",
              "      <td>0.06905</td>\n",
              "      <td>0.0</td>\n",
              "      <td>2.18</td>\n",
              "      <td>0</td>\n",
              "      <td>0.458</td>\n",
              "      <td>7.147</td>\n",
              "      <td>54.2</td>\n",
              "      <td>6.0622</td>\n",
              "      <td>3</td>\n",
              "      <td>222.0</td>\n",
              "      <td>18.7</td>\n",
              "      <td>396.90</td>\n",
              "      <td>5.33</td>\n",
              "      <td>36.2</td>\n",
              "    </tr>\n",
              "  </tbody>\n",
              "</table>\n",
              "</div>"
            ],
            "text/plain": [
              "      crim    zn  indus  chas    nox  ...    tax  ptratio   black  lstat  medv\n",
              "0  0.00632  18.0   2.31     0  0.538  ...  296.0     15.3  396.90   4.98  24.0\n",
              "1  0.02731   0.0   7.07     0  0.469  ...  242.0     17.8  396.90   9.14  21.6\n",
              "2  0.02729   0.0   7.07     0  0.469  ...  242.0     17.8  392.83   4.03  34.7\n",
              "3  0.03237   0.0   2.18     0  0.458  ...  222.0     18.7  394.63   2.94  33.4\n",
              "4  0.06905   0.0   2.18     0  0.458  ...  222.0     18.7  396.90   5.33  36.2\n",
              "\n",
              "[5 rows x 14 columns]"
            ]
          },
          "metadata": {
            "tags": []
          },
          "execution_count": 193
        }
      ]
    },
    {
      "cell_type": "code",
      "metadata": {
        "colab": {
          "base_uri": "https://localhost:8080/"
        },
        "id": "o-rpQntOFTWN",
        "outputId": "d012ad1a-06f4-4f5e-b81b-4ab963e7f343"
      },
      "source": [
        "PowerPlantData.isna().sum()"
      ],
      "execution_count": 194,
      "outputs": [
        {
          "output_type": "execute_result",
          "data": {
            "text/plain": [
              "crim       0\n",
              "zn         0\n",
              "indus      0\n",
              "chas       0\n",
              "nox        0\n",
              "rm         0\n",
              "age        0\n",
              "dis        0\n",
              "rad        0\n",
              "tax        0\n",
              "ptratio    0\n",
              "black      0\n",
              "lstat      0\n",
              "medv       0\n",
              "dtype: int64"
            ]
          },
          "metadata": {
            "tags": []
          },
          "execution_count": 194
        }
      ]
    },
    {
      "cell_type": "code",
      "metadata": {
        "id": "snCQt1akf0zf"
      },
      "source": [
        "msk = np.random.rand(len(PowerPlantData)) < 0.8\n",
        "train = PowerPlantData[msk]\n",
        "holdout = PowerPlantData[~msk]"
      ],
      "execution_count": 225,
      "outputs": []
    },
    {
      "cell_type": "code",
      "metadata": {
        "colab": {
          "base_uri": "https://localhost:8080/",
          "height": 302
        },
        "id": "NkH_fycWf53t",
        "outputId": "699e6613-289c-44e6-be1a-2479a7cc496a"
      },
      "source": [
        "# check the number of records we'll validate our MSE with\n",
        "holdout.describe()"
      ],
      "execution_count": 226,
      "outputs": [
        {
          "output_type": "execute_result",
          "data": {
            "text/html": [
              "<div>\n",
              "<style scoped>\n",
              "    .dataframe tbody tr th:only-of-type {\n",
              "        vertical-align: middle;\n",
              "    }\n",
              "\n",
              "    .dataframe tbody tr th {\n",
              "        vertical-align: top;\n",
              "    }\n",
              "\n",
              "    .dataframe thead th {\n",
              "        text-align: right;\n",
              "    }\n",
              "</style>\n",
              "<table border=\"1\" class=\"dataframe\">\n",
              "  <thead>\n",
              "    <tr style=\"text-align: right;\">\n",
              "      <th></th>\n",
              "      <th>crim</th>\n",
              "      <th>zn</th>\n",
              "      <th>indus</th>\n",
              "      <th>chas</th>\n",
              "      <th>nox</th>\n",
              "      <th>rm</th>\n",
              "      <th>age</th>\n",
              "      <th>dis</th>\n",
              "      <th>rad</th>\n",
              "      <th>tax</th>\n",
              "      <th>ptratio</th>\n",
              "      <th>black</th>\n",
              "      <th>lstat</th>\n",
              "      <th>medv</th>\n",
              "    </tr>\n",
              "  </thead>\n",
              "  <tbody>\n",
              "    <tr>\n",
              "      <th>count</th>\n",
              "      <td>108.000000</td>\n",
              "      <td>108.000000</td>\n",
              "      <td>108.000000</td>\n",
              "      <td>108.000000</td>\n",
              "      <td>108.000000</td>\n",
              "      <td>108.000000</td>\n",
              "      <td>108.000000</td>\n",
              "      <td>108.000000</td>\n",
              "      <td>108.000000</td>\n",
              "      <td>108.000000</td>\n",
              "      <td>108.000000</td>\n",
              "      <td>108.000000</td>\n",
              "      <td>108.000000</td>\n",
              "      <td>108.000000</td>\n",
              "    </tr>\n",
              "    <tr>\n",
              "      <th>mean</th>\n",
              "      <td>0.037887</td>\n",
              "      <td>-0.068990</td>\n",
              "      <td>-0.001973</td>\n",
              "      <td>0.055763</td>\n",
              "      <td>0.101946</td>\n",
              "      <td>-0.039739</td>\n",
              "      <td>-0.032759</td>\n",
              "      <td>-0.066135</td>\n",
              "      <td>0.077271</td>\n",
              "      <td>0.027381</td>\n",
              "      <td>0.024816</td>\n",
              "      <td>0.021964</td>\n",
              "      <td>0.054872</td>\n",
              "      <td>0.001567</td>\n",
              "    </tr>\n",
              "    <tr>\n",
              "      <th>std</th>\n",
              "      <td>0.889994</td>\n",
              "      <td>0.885311</td>\n",
              "      <td>1.002512</td>\n",
              "      <td>1.093230</td>\n",
              "      <td>1.057197</td>\n",
              "      <td>1.053084</td>\n",
              "      <td>1.016662</td>\n",
              "      <td>0.947400</td>\n",
              "      <td>1.040376</td>\n",
              "      <td>1.060486</td>\n",
              "      <td>0.985319</td>\n",
              "      <td>0.969997</td>\n",
              "      <td>1.100336</td>\n",
              "      <td>1.038911</td>\n",
              "    </tr>\n",
              "    <tr>\n",
              "      <th>min</th>\n",
              "      <td>-0.418589</td>\n",
              "      <td>-0.487240</td>\n",
              "      <td>-1.445520</td>\n",
              "      <td>-0.272329</td>\n",
              "      <td>-1.334986</td>\n",
              "      <td>-3.055198</td>\n",
              "      <td>-2.333128</td>\n",
              "      <td>-1.262302</td>\n",
              "      <td>-0.981871</td>\n",
              "      <td>-1.306758</td>\n",
              "      <td>-2.704703</td>\n",
              "      <td>-3.804749</td>\n",
              "      <td>-1.369973</td>\n",
              "      <td>-1.688880</td>\n",
              "    </tr>\n",
              "    <tr>\n",
              "      <th>25%</th>\n",
              "      <td>-0.411778</td>\n",
              "      <td>-0.487240</td>\n",
              "      <td>-0.902545</td>\n",
              "      <td>-0.272329</td>\n",
              "      <td>-0.845245</td>\n",
              "      <td>-0.580522</td>\n",
              "      <td>-0.750471</td>\n",
              "      <td>-0.813321</td>\n",
              "      <td>-0.637331</td>\n",
              "      <td>-0.820218</td>\n",
              "      <td>-0.395176</td>\n",
              "      <td>0.220916</td>\n",
              "      <td>-0.843091</td>\n",
              "      <td>-0.636919</td>\n",
              "    </tr>\n",
              "    <tr>\n",
              "      <th>50%</th>\n",
              "      <td>-0.388192</td>\n",
              "      <td>-0.487240</td>\n",
              "      <td>-0.210890</td>\n",
              "      <td>-0.272329</td>\n",
              "      <td>-0.118185</td>\n",
              "      <td>-0.168846</td>\n",
              "      <td>0.038193</td>\n",
              "      <td>-0.327392</td>\n",
              "      <td>-0.522484</td>\n",
              "      <td>-0.523547</td>\n",
              "      <td>0.297683</td>\n",
              "      <td>0.374019</td>\n",
              "      <td>-0.188076</td>\n",
              "      <td>-0.134043</td>\n",
              "    </tr>\n",
              "    <tr>\n",
              "      <th>75%</th>\n",
              "      <td>0.143123</td>\n",
              "      <td>-0.353249</td>\n",
              "      <td>1.014995</td>\n",
              "      <td>-0.272329</td>\n",
              "      <td>0.874240</td>\n",
              "      <td>0.616788</td>\n",
              "      <td>0.976064</td>\n",
              "      <td>0.537221</td>\n",
              "      <td>1.659603</td>\n",
              "      <td>1.529413</td>\n",
              "      <td>0.805778</td>\n",
              "      <td>0.428677</td>\n",
              "      <td>0.711300</td>\n",
              "      <td>0.466690</td>\n",
              "    </tr>\n",
              "    <tr>\n",
              "      <th>max</th>\n",
              "      <td>4.898257</td>\n",
              "      <td>3.586088</td>\n",
              "      <td>2.420170</td>\n",
              "      <td>3.664771</td>\n",
              "      <td>2.729645</td>\n",
              "      <td>3.007848</td>\n",
              "      <td>1.116390</td>\n",
              "      <td>3.284050</td>\n",
              "      <td>1.659603</td>\n",
              "      <td>1.796416</td>\n",
              "      <td>1.267684</td>\n",
              "      <td>0.440616</td>\n",
              "      <td>3.545262</td>\n",
              "      <td>2.986505</td>\n",
              "    </tr>\n",
              "  </tbody>\n",
              "</table>\n",
              "</div>"
            ],
            "text/plain": [
              "             crim          zn       indus  ...       black       lstat        medv\n",
              "count  108.000000  108.000000  108.000000  ...  108.000000  108.000000  108.000000\n",
              "mean     0.037887   -0.068990   -0.001973  ...    0.021964    0.054872    0.001567\n",
              "std      0.889994    0.885311    1.002512  ...    0.969997    1.100336    1.038911\n",
              "min     -0.418589   -0.487240   -1.445520  ...   -3.804749   -1.369973   -1.688880\n",
              "25%     -0.411778   -0.487240   -0.902545  ...    0.220916   -0.843091   -0.636919\n",
              "50%     -0.388192   -0.487240   -0.210890  ...    0.374019   -0.188076   -0.134043\n",
              "75%      0.143123   -0.353249    1.014995  ...    0.428677    0.711300    0.466690\n",
              "max      4.898257    3.586088    2.420170  ...    0.440616    3.545262    2.986505\n",
              "\n",
              "[8 rows x 14 columns]"
            ]
          },
          "metadata": {
            "tags": []
          },
          "execution_count": 226
        }
      ]
    },
    {
      "cell_type": "code",
      "metadata": {
        "colab": {
          "base_uri": "https://localhost:8080/",
          "height": 302
        },
        "id": "ovQik-LNf91U",
        "outputId": "cdac17a5-a2fb-41e9-fea1-0f995ef1283d"
      },
      "source": [
        "# check the number of records we'll train our algorithm with\n",
        "train.describe()"
      ],
      "execution_count": 227,
      "outputs": [
        {
          "output_type": "execute_result",
          "data": {
            "text/html": [
              "<div>\n",
              "<style scoped>\n",
              "    .dataframe tbody tr th:only-of-type {\n",
              "        vertical-align: middle;\n",
              "    }\n",
              "\n",
              "    .dataframe tbody tr th {\n",
              "        vertical-align: top;\n",
              "    }\n",
              "\n",
              "    .dataframe thead th {\n",
              "        text-align: right;\n",
              "    }\n",
              "</style>\n",
              "<table border=\"1\" class=\"dataframe\">\n",
              "  <thead>\n",
              "    <tr style=\"text-align: right;\">\n",
              "      <th></th>\n",
              "      <th>crim</th>\n",
              "      <th>zn</th>\n",
              "      <th>indus</th>\n",
              "      <th>chas</th>\n",
              "      <th>nox</th>\n",
              "      <th>rm</th>\n",
              "      <th>age</th>\n",
              "      <th>dis</th>\n",
              "      <th>rad</th>\n",
              "      <th>tax</th>\n",
              "      <th>ptratio</th>\n",
              "      <th>black</th>\n",
              "      <th>lstat</th>\n",
              "      <th>medv</th>\n",
              "    </tr>\n",
              "  </thead>\n",
              "  <tbody>\n",
              "    <tr>\n",
              "      <th>count</th>\n",
              "      <td>398.000000</td>\n",
              "      <td>398.000000</td>\n",
              "      <td>398.000000</td>\n",
              "      <td>398.000000</td>\n",
              "      <td>398.000000</td>\n",
              "      <td>398.000000</td>\n",
              "      <td>398.000000</td>\n",
              "      <td>398.000000</td>\n",
              "      <td>398.000000</td>\n",
              "      <td>398.000000</td>\n",
              "      <td>398.000000</td>\n",
              "      <td>398.000000</td>\n",
              "      <td>398.000000</td>\n",
              "      <td>398.000000</td>\n",
              "    </tr>\n",
              "    <tr>\n",
              "      <th>mean</th>\n",
              "      <td>-0.010281</td>\n",
              "      <td>0.018721</td>\n",
              "      <td>0.000535</td>\n",
              "      <td>-0.015132</td>\n",
              "      <td>-0.027664</td>\n",
              "      <td>0.010783</td>\n",
              "      <td>0.008889</td>\n",
              "      <td>0.017946</td>\n",
              "      <td>-0.020968</td>\n",
              "      <td>-0.007430</td>\n",
              "      <td>-0.006734</td>\n",
              "      <td>-0.005960</td>\n",
              "      <td>-0.014890</td>\n",
              "      <td>-0.000425</td>\n",
              "    </tr>\n",
              "    <tr>\n",
              "      <th>std</th>\n",
              "      <td>1.028620</td>\n",
              "      <td>1.029150</td>\n",
              "      <td>1.000581</td>\n",
              "      <td>0.974087</td>\n",
              "      <td>0.983469</td>\n",
              "      <td>0.986204</td>\n",
              "      <td>0.996540</td>\n",
              "      <td>1.014206</td>\n",
              "      <td>0.989065</td>\n",
              "      <td>0.984210</td>\n",
              "      <td>1.005068</td>\n",
              "      <td>1.009100</td>\n",
              "      <td>0.971946</td>\n",
              "      <td>0.990523</td>\n",
              "    </tr>\n",
              "    <tr>\n",
              "      <th>min</th>\n",
              "      <td>-0.419367</td>\n",
              "      <td>-0.487240</td>\n",
              "      <td>-1.556302</td>\n",
              "      <td>-0.272329</td>\n",
              "      <td>-1.464433</td>\n",
              "      <td>-3.876413</td>\n",
              "      <td>-2.222999</td>\n",
              "      <td>-1.265817</td>\n",
              "      <td>-0.981871</td>\n",
              "      <td>-1.312691</td>\n",
              "      <td>-2.704703</td>\n",
              "      <td>-3.903331</td>\n",
              "      <td>-1.529613</td>\n",
              "      <td>-1.906340</td>\n",
              "    </tr>\n",
              "    <tr>\n",
              "      <th>25%</th>\n",
              "      <td>-0.410480</td>\n",
              "      <td>-0.487240</td>\n",
              "      <td>-0.866833</td>\n",
              "      <td>-0.272329</td>\n",
              "      <td>-0.918599</td>\n",
              "      <td>-0.564154</td>\n",
              "      <td>-0.853495</td>\n",
              "      <td>-0.803906</td>\n",
              "      <td>-0.637331</td>\n",
              "      <td>-0.737150</td>\n",
              "      <td>-0.672319</td>\n",
              "      <td>0.197557</td>\n",
              "      <td>-0.774123</td>\n",
              "      <td>-0.579835</td>\n",
              "    </tr>\n",
              "    <tr>\n",
              "      <th>50%</th>\n",
              "      <td>-0.390605</td>\n",
              "      <td>-0.487240</td>\n",
              "      <td>-0.210890</td>\n",
              "      <td>-0.272329</td>\n",
              "      <td>-0.195854</td>\n",
              "      <td>-0.106223</td>\n",
              "      <td>0.363251</td>\n",
              "      <td>-0.261737</td>\n",
              "      <td>-0.522484</td>\n",
              "      <td>-0.464213</td>\n",
              "      <td>0.251492</td>\n",
              "      <td>0.384972</td>\n",
              "      <td>-0.169171</td>\n",
              "      <td>-0.150352</td>\n",
              "    </tr>\n",
              "    <tr>\n",
              "      <th>75%</th>\n",
              "      <td>-0.045543</td>\n",
              "      <td>0.048724</td>\n",
              "      <td>1.014995</td>\n",
              "      <td>-0.272329</td>\n",
              "      <td>0.598087</td>\n",
              "      <td>0.451335</td>\n",
              "      <td>0.894356</td>\n",
              "      <td>0.708672</td>\n",
              "      <td>1.200216</td>\n",
              "      <td>1.529413</td>\n",
              "      <td>0.805778</td>\n",
              "      <td>0.433715</td>\n",
              "      <td>0.548509</td>\n",
              "      <td>0.268258</td>\n",
              "    </tr>\n",
              "    <tr>\n",
              "      <th>max</th>\n",
              "      <td>9.924110</td>\n",
              "      <td>3.800473</td>\n",
              "      <td>2.420170</td>\n",
              "      <td>3.664771</td>\n",
              "      <td>2.729645</td>\n",
              "      <td>3.551530</td>\n",
              "      <td>1.116390</td>\n",
              "      <td>3.956602</td>\n",
              "      <td>1.659603</td>\n",
              "      <td>1.796416</td>\n",
              "      <td>1.637208</td>\n",
              "      <td>0.440616</td>\n",
              "      <td>3.097150</td>\n",
              "      <td>2.986505</td>\n",
              "    </tr>\n",
              "  </tbody>\n",
              "</table>\n",
              "</div>"
            ],
            "text/plain": [
              "             crim          zn       indus  ...       black       lstat        medv\n",
              "count  398.000000  398.000000  398.000000  ...  398.000000  398.000000  398.000000\n",
              "mean    -0.010281    0.018721    0.000535  ...   -0.005960   -0.014890   -0.000425\n",
              "std      1.028620    1.029150    1.000581  ...    1.009100    0.971946    0.990523\n",
              "min     -0.419367   -0.487240   -1.556302  ...   -3.903331   -1.529613   -1.906340\n",
              "25%     -0.410480   -0.487240   -0.866833  ...    0.197557   -0.774123   -0.579835\n",
              "50%     -0.390605   -0.487240   -0.210890  ...    0.384972   -0.169171   -0.150352\n",
              "75%     -0.045543    0.048724    1.014995  ...    0.433715    0.548509    0.268258\n",
              "max      9.924110    3.800473    2.420170  ...    0.440616    3.097150    2.986505\n",
              "\n",
              "[8 rows x 14 columns]"
            ]
          },
          "metadata": {
            "tags": []
          },
          "execution_count": 227
        }
      ]
    },
    {
      "cell_type": "code",
      "metadata": {
        "id": "crntt-r0gBac"
      },
      "source": [
        "\n",
        "\n",
        "# copy and convert our pandas dataframe into numpy variables.\n",
        "# I will leave the target at Y, as I can't see where to set that in the code, but it's in there somehow!\n",
        "\n",
        "# NOTE: I'm only feeding in the TRAIN values to the algorithms. Later I will independely check\n",
        "# the MSE myself using a holdout test dataset\n",
        "\n",
        "#X1 = train['X1 transaction date'].values\n",
        "crim = train['crim'].values\n",
        "zn = train['zn'].values\n",
        "indus = train['indus'].values\n",
        "chas = train['chas'].values\n",
        "nox = train['nox'].values\n",
        "rm = train['rm'].values#\n",
        "age = train['age'].values\n",
        "dis = train['dis'].values\n",
        "rad = train['rad'].values\n",
        "tax = train['tax'].values\n",
        "ptratio = train['ptratio'].values\n",
        "black = train['black'].values\n",
        "lstat = train['lstat'].values#\n",
        "Y = train['medv'].values\n",
        "\n"
      ],
      "execution_count": 228,
      "outputs": []
    },
    {
      "cell_type": "code",
      "metadata": {
        "id": "T2X3Z6hmgK6r"
      },
      "source": [
        "\n",
        "\n",
        "def protected_div(x1, x2):\n",
        "    if abs(x2) < 1e-6:\n",
        "        return 1\n",
        "    return x1 / x2\n",
        "\n"
      ],
      "execution_count": 229,
      "outputs": []
    },
    {
      "cell_type": "code",
      "metadata": {
        "id": "7cP4450igOX7"
      },
      "source": [
        "pset = gep.PrimitiveSet('Main', input_names=['crim','zn','indus','chas','nox','rm','age','dis','rad','tax','ptratio','black','lstat'])"
      ],
      "execution_count": 230,
      "outputs": []
    },
    {
      "cell_type": "code",
      "metadata": {
        "id": "5nqhCkG7gdSk"
      },
      "source": [
        "pset.add_function(operator.add, 2)\n",
        "pset.add_function(operator.sub, 2)\n",
        "pset.add_function(operator.mul, 2)\n",
        "pset.add_function(protected_div, 2)\n",
        "pset.add_function(math.sin, 1)        # I tested adding my own functions\n",
        "pset.add_function(math.cos, 1)\n",
        "pset.add_function(math.tan, 1)\n",
        "pset.add_rnc_terminal()"
      ],
      "execution_count": 231,
      "outputs": []
    },
    {
      "cell_type": "code",
      "metadata": {
        "id": "quQSwbp4ghFO",
        "colab": {
          "base_uri": "https://localhost:8080/"
        },
        "outputId": "1d33081c-01e0-40ab-ac86-8f4cb565cfe9"
      },
      "source": [
        "from deap import creator, base, tools\n",
        "\n",
        "creator.create(\"FitnessMin\", base.Fitness, weights=(-1,))  # to minimize the objective (fitness)\n",
        "creator.create(\"Individual\", gep.Chromosome, fitness=creator.FitnessMin)"
      ],
      "execution_count": 232,
      "outputs": [
        {
          "output_type": "stream",
          "text": [
            "/usr/local/lib/python3.7/dist-packages/deap/creator.py:141: RuntimeWarning: A class named 'FitnessMin' has already been created and it will be overwritten. Consider deleting previous creation of that class or rename it.\n",
            "  RuntimeWarning)\n",
            "/usr/local/lib/python3.7/dist-packages/deap/creator.py:141: RuntimeWarning: A class named 'Individual' has already been created and it will be overwritten. Consider deleting previous creation of that class or rename it.\n",
            "  RuntimeWarning)\n"
          ],
          "name": "stderr"
        }
      ]
    },
    {
      "cell_type": "code",
      "metadata": {
        "id": "MQ3X_40Eg7B7"
      },
      "source": [
        "h = 20        # head length\n",
        "n_genes = 2    # number of genes in a chromosome\n",
        "r = 10         # length of the RNC array\n",
        "enable_ls = True # whether to apply the linear scaling technique"
      ],
      "execution_count": 233,
      "outputs": []
    },
    {
      "cell_type": "code",
      "metadata": {
        "id": "Zplr4OyKg-0S"
      },
      "source": [
        "toolbox = gep.Toolbox()\n",
        "toolbox.register('rnc_gen', random.randint, a=-10, b=10)   # each RNC is random integer within [-5, 5]\n",
        "toolbox.register('gene_gen', gep.GeneDc, pset=pset, head_length=h, rnc_gen=toolbox.rnc_gen, rnc_array_length=r)\n",
        "toolbox.register('individual', creator.Individual, gene_gen=toolbox.gene_gen, n_genes=n_genes, linker=operator.add)\n",
        "toolbox.register(\"population\", tools.initRepeat, list, toolbox.individual)\n",
        "\n",
        "# compile utility: which translates an individual into an executable function (Lambda)\n",
        "toolbox.register('compile', gep.compile_, pset=pset)"
      ],
      "execution_count": 234,
      "outputs": []
    },
    {
      "cell_type": "code",
      "metadata": {
        "id": "5ltadIsWhC28"
      },
      "source": [
        "# as a test I'm going to try and accelerate the fitness function\n",
        "from numba import jit\n",
        "\n",
        "@jit\n",
        "def evaluate(individual):\n",
        "    \"\"\"Evalute the fitness of an individual: MAE (mean absolute error)\"\"\"\n",
        "    func = toolbox.compile(individual)\n",
        "    \n",
        "    # below call the individual as a function over the inputs\n",
        "    \n",
        "    # Yp = np.array(list(map(func, X)))\n",
        "    Yp = np.array(list(map(func, rm,age,dis,rad,tax,ptratio,black,lstat))) \n",
        "    \n",
        "    # return the MSE as we are evaluating on it anyway - then the stats are more fun to watch...\n",
        "    return np.mean((Y - Yp) ** 2),"
      ],
      "execution_count": 238,
      "outputs": []
    },
    {
      "cell_type": "code",
      "metadata": {
        "id": "UcfuDf1ehJyI"
      },
      "source": [
        "from numba import jit\n",
        "\n",
        "@jit\n",
        "def evaluate_ls(individual):\n",
        "    \"\"\"\n",
        "    First apply linear scaling (ls) to the individual \n",
        "    and then evaluate its fitness: MSE (mean squared error)\n",
        "    \"\"\"\n",
        "    func = toolbox.compile(individual)\n",
        "    Yp = np.array(list(map(func, crim,zn,indus,chas,nox,rm,age,dis,rad,tax,ptratio,black,lstat)))\n",
        "    \n",
        "    # special cases which cannot be handled by np.linalg.lstsq: (1) individual has only a terminal \n",
        "    #  (2) individual returns the same value for all test cases, like 'x - x + 10'. np.linalg.lstsq will fail in such cases.\n",
        "    # That is, the predicated value for all the examples remains identical, which may happen in the evolution.\n",
        "    if isinstance(Yp, np.ndarray):\n",
        "        Q = np.hstack((np.reshape(Yp, (-1, 1)), np.ones((len(Yp), 1))))\n",
        "        (individual.a, individual.b), residuals, _, _ = np.linalg.lstsq(Q, Y)   \n",
        "        # residuals is the sum of squared errors\n",
        "        if residuals.size > 0:\n",
        "            return residuals[0] / len(Y),   # MSE\n",
        "    \n",
        "    # regarding the above special cases, the optimal linear scaling w.r.t LSM is just the mean of true target values\n",
        "    individual.a = 0\n",
        "    individual.b = np.mean(Y)\n",
        "    return np.mean((Y - individual.b) ** 2),"
      ],
      "execution_count": 236,
      "outputs": []
    },
    {
      "cell_type": "code",
      "metadata": {
        "id": "5qmmVFg2FNeN"
      },
      "source": [
        ""
      ],
      "execution_count": null,
      "outputs": []
    },
    {
      "cell_type": "code",
      "metadata": {
        "id": "bJNWvi4whNSA"
      },
      "source": [
        "if enable_ls:\n",
        "    toolbox.register('evaluate', evaluate_ls)\n",
        "else:\n",
        "    toolbox.register('evaluate', evaluate)"
      ],
      "execution_count": 239,
      "outputs": []
    },
    {
      "cell_type": "code",
      "metadata": {
        "id": "ZlcV-7gehQ4D"
      },
      "source": [
        "\n",
        "\n",
        "toolbox.register('select', tools.selTournament, tournsize=3)\n",
        "# 1. general operators\n",
        "toolbox.register('mut_uniform', gep.mutate_uniform, pset=pset, ind_pb=0.05, pb=1)\n",
        "toolbox.register('mut_invert', gep.invert, pb=0.1)\n",
        "toolbox.register('mut_is_transpose', gep.is_transpose, pb=0.1)\n",
        "toolbox.register('mut_ris_transpose', gep.ris_transpose, pb=0.1)\n",
        "toolbox.register('mut_gene_transpose', gep.gene_transpose, pb=0.1)\n",
        "toolbox.register('cx_1p', gep.crossover_one_point, pb=0.3)\n",
        "toolbox.register('cx_2p', gep.crossover_two_point, pb=0.2)\n",
        "toolbox.register('cx_gene', gep.crossover_gene, pb=0.1)\n",
        "# 2. Dc-specific operators\n",
        "toolbox.register('mut_dc', gep.mutate_uniform_dc, ind_pb=0.05, pb=1)\n",
        "toolbox.register('mut_invert_dc', gep.invert_dc, pb=0.1)\n",
        "toolbox.register('mut_transpose_dc', gep.transpose_dc, pb=0.1)\n",
        "# for some uniform mutations, we can also assign the ind_pb a string to indicate our expected number of point mutations in an individual\n",
        "toolbox.register('mut_rnc_array_dc', gep.mutate_rnc_array_dc, rnc_gen=toolbox.rnc_gen, ind_pb='0.5p')\n",
        "toolbox.pbs['mut_rnc_array_dc'] = 1  # we can also give the probability via the pbs property\n",
        "\n"
      ],
      "execution_count": 240,
      "outputs": []
    },
    {
      "cell_type": "code",
      "metadata": {
        "id": "lOG5M0qdhT6Q"
      },
      "source": [
        "stats = tools.Statistics(key=lambda ind: ind.fitness.values[0])\n",
        "stats.register(\"avg\", np.mean)\n",
        "stats.register(\"std\", np.std)\n",
        "stats.register(\"min\", np.min)\n",
        "stats.register(\"max\", np.max)"
      ],
      "execution_count": 241,
      "outputs": []
    },
    {
      "cell_type": "code",
      "metadata": {
        "id": "ruf2-5I5hXEJ"
      },
      "source": [
        "\n",
        "\n",
        "# size of population and number of generations\n",
        "n_pop = 180\n",
        "n_gen = 100\n",
        "\n",
        "#100 3000\n",
        "\n",
        "champs = 3\n",
        "\n",
        "pop = toolbox.population(n=n_pop) # \n",
        "hof = tools.HallOfFame(champs) "
      ],
      "execution_count": 242,
      "outputs": []
    },
    {
      "cell_type": "code",
      "metadata": {
        "colab": {
          "base_uri": "https://localhost:8080/"
        },
        "id": "m3wU88_khagA",
        "outputId": "9592a75e-ebfc-496d-9962-ef77c97ae02b"
      },
      "source": [
        "startDT = datetime.datetime.now()\n",
        "print (str(startDT))\n"
      ],
      "execution_count": 243,
      "outputs": [
        {
          "output_type": "stream",
          "text": [
            "2021-03-16 17:46:01.411545\n"
          ],
          "name": "stdout"
        }
      ]
    },
    {
      "cell_type": "code",
      "metadata": {
        "colab": {
          "base_uri": "https://localhost:8080/"
        },
        "id": "ZDj46Pl7heO5",
        "outputId": "51c4589c-1172-4234-ccb4-dcc8fd2013be"
      },
      "source": [
        "\n",
        "\n",
        "# start evolution\n",
        "pop, log = gep.gep_simple(pop, toolbox, n_generations=n_gen, n_elites=1,\n",
        "                          stats=stats, hall_of_fame=hof, verbose=True)\n",
        "\n"
      ],
      "execution_count": 244,
      "outputs": [
        {
          "output_type": "stream",
          "text": [
            "<ipython-input-236-701e9fb88ec2>:3: NumbaWarning: \n",
            "Compilation is falling back to object mode WITH looplifting enabled because Function \"evaluate_ls\" failed type inference due to: Untyped global name 'toolbox': cannot determine Numba type of <class 'geppy.tools.toolbox.Toolbox'>\n",
            "\n",
            "File \"<ipython-input-236-701e9fb88ec2>\", line 9:\n",
            "def evaluate_ls(individual):\n",
            "    <source elided>\n",
            "    \"\"\"\n",
            "    func = toolbox.compile(individual)\n",
            "    ^\n",
            "\n",
            "  @jit\n",
            "/usr/local/lib/python3.7/dist-packages/numba/core/object_mode_passes.py:178: NumbaWarning: Function \"evaluate_ls\" was compiled in object mode without forceobj=True.\n",
            "\n",
            "File \"<ipython-input-236-701e9fb88ec2>\", line 4:\n",
            "@jit\n",
            "def evaluate_ls(individual):\n",
            "^\n",
            "\n",
            "  state.func_ir.loc))\n",
            "/usr/local/lib/python3.7/dist-packages/numba/core/object_mode_passes.py:188: NumbaDeprecationWarning: \n",
            "Fall-back from the nopython compilation path to the object mode compilation path has been detected, this is deprecated behaviour.\n",
            "\n",
            "For more information visit https://numba.pydata.org/numba-doc/latest/reference/deprecation.html#deprecation-of-object-mode-fall-back-behaviour-when-using-jit\n",
            "\n",
            "File \"<ipython-input-236-701e9fb88ec2>\", line 4:\n",
            "@jit\n",
            "def evaluate_ls(individual):\n",
            "^\n",
            "\n",
            "  state.func_ir.loc))\n",
            "/usr/local/lib/python3.7/dist-packages/geppy/algorithms/basic.py:100: FutureWarning: `rcond` parameter will change to the default of machine precision times ``max(M, N)`` where M and N are the input matrix dimensions.\n",
            "To use the future default and silence this warning we advise to pass `rcond=None`, to keep using the old, explicitly pass `rcond=-1`.\n",
            "  for ind, fit in zip(invalid_individuals, fitnesses):\n"
          ],
          "name": "stderr"
        },
        {
          "output_type": "stream",
          "text": [
            "gen\tnevals\tavg     \tstd    \tmin     \tmax     \n",
            "0  \t180   \t0.868695\t0.13573\t0.460467\t0.978662\n",
            "1  \t179   \t0.762781\t0.156587\t0.453746\t0.978657\n",
            "2  \t179   \t0.684782\t0.177611\t0.33899 \t0.978648\n",
            "3  \t179   \t0.622059\t0.197075\t0.33899 \t0.978637\n",
            "4  \t179   \t0.559743\t0.181809\t0.33899 \t0.97867 \n",
            "5  \t179   \t0.540678\t0.184926\t0.326123\t0.978442\n",
            "6  \t179   \t0.541739\t0.202366\t0.296383\t0.978665\n",
            "7  \t179   \t0.529559\t0.206951\t0.296383\t0.978657\n",
            "8  \t179   \t0.490479\t0.198688\t0.290418\t0.978654\n",
            "9  \t179   \t0.483662\t0.219127\t0.290418\t0.978667\n",
            "10 \t179   \t0.492413\t0.231517\t0.277406\t0.978669\n",
            "11 \t179   \t0.509979\t0.250796\t0.270968\t0.97867 \n",
            "12 \t179   \t0.458041\t0.21693 \t0.270968\t0.978449\n",
            "13 \t179   \t0.495616\t0.25262 \t0.270968\t0.97867 \n",
            "14 \t179   \t0.476088\t0.239071\t0.270968\t0.978483\n",
            "15 \t179   \t0.492949\t0.242744\t0.270968\t0.978618\n",
            "16 \t179   \t0.43052 \t0.209759\t0.270968\t0.978669\n",
            "17 \t179   \t0.463416\t0.242795\t0.270968\t0.978665\n",
            "18 \t179   \t0.441586\t0.237435\t0.270968\t0.97867 \n",
            "19 \t179   \t0.445104\t0.243687\t0.270968\t0.978669\n",
            "20 \t179   \t0.466829\t0.250933\t0.270968\t0.97867 \n",
            "21 \t179   \t0.437595\t0.229128\t0.270968\t0.978623\n",
            "22 \t179   \t0.475547\t0.25674 \t0.270968\t0.978659\n",
            "23 \t179   \t0.466464\t0.260494\t0.270968\t0.978346\n",
            "24 \t179   \t0.471155\t0.245479\t0.270968\t0.978658\n",
            "25 \t179   \t0.483422\t0.261812\t0.270968\t0.97867 \n",
            "26 \t179   \t0.494433\t0.263747\t0.270968\t0.978661\n",
            "27 \t179   \t0.490467\t0.263691\t0.270968\t0.978647\n",
            "28 \t179   \t0.476027\t0.262155\t0.270968\t0.978669\n",
            "29 \t179   \t0.485019\t0.251968\t0.270968\t0.978346\n",
            "30 \t179   \t0.495777\t0.253053\t0.270968\t0.97867 \n",
            "31 \t179   \t0.458168\t0.237448\t0.270968\t0.978634\n",
            "32 \t179   \t0.464622\t0.251708\t0.249845\t0.978651\n",
            "33 \t179   \t0.501308\t0.260289\t0.249845\t0.97867 \n",
            "34 \t179   \t0.478203\t0.248139\t0.249845\t0.97867 \n",
            "35 \t179   \t0.483805\t0.25615 \t0.249845\t0.97867 \n",
            "36 \t179   \t0.462879\t0.251129\t0.249845\t0.97864 \n",
            "37 \t179   \t0.491499\t0.261638\t0.249845\t0.97867 \n",
            "38 \t179   \t0.494625\t0.24919 \t0.249845\t0.978229\n",
            "39 \t179   \t0.494343\t0.262674\t0.249845\t0.978638\n",
            "40 \t179   \t0.486413\t0.264135\t0.249845\t0.978323\n",
            "41 \t179   \t0.468076\t0.260055\t0.249845\t0.978642\n",
            "42 \t179   \t0.475183\t0.256803\t0.249845\t0.978278\n",
            "43 \t179   \t0.492672\t0.255825\t0.249845\t0.978663\n",
            "44 \t179   \t0.49371 \t0.251538\t0.249845\t0.978648\n",
            "45 \t179   \t0.509199\t0.264263\t0.249845\t0.978585\n",
            "46 \t179   \t0.482555\t0.261724\t0.249845\t0.978654\n",
            "47 \t179   \t0.476143\t0.258528\t0.249845\t0.977938\n",
            "48 \t179   \t0.509027\t0.269532\t0.249845\t0.978643\n",
            "49 \t179   \t0.534759\t0.263758\t0.249845\t0.97862 \n",
            "50 \t179   \t0.559468\t0.27891 \t0.249845\t0.978662\n",
            "51 \t179   \t0.538072\t0.271517\t0.249845\t0.978621\n",
            "52 \t179   \t0.501678\t0.259172\t0.249845\t0.978657\n",
            "53 \t179   \t0.498649\t0.24867 \t0.249845\t0.97867 \n",
            "54 \t179   \t0.50262 \t0.248133\t0.249845\t0.97867 \n",
            "55 \t179   \t0.533782\t0.273907\t0.249845\t0.978666\n",
            "56 \t179   \t0.475446\t0.245633\t0.249845\t0.978669\n",
            "57 \t179   \t0.45423 \t0.237445\t0.249845\t0.978669\n",
            "58 \t179   \t0.496783\t0.262145\t0.249845\t0.978661\n",
            "59 \t179   \t0.489952\t0.262334\t0.249845\t0.978603\n",
            "60 \t179   \t0.51714 \t0.260781\t0.249845\t0.978574\n",
            "61 \t179   \t0.435027\t0.222329\t0.247272\t0.978339\n",
            "62 \t179   \t0.511384\t0.277801\t0.247272\t0.978661\n",
            "63 \t179   \t0.498358\t0.272609\t0.247272\t0.978583\n",
            "64 \t179   \t0.519405\t0.274012\t0.247272\t0.978669\n",
            "65 \t179   \t0.495713\t0.268596\t0.247272\t0.978667\n",
            "66 \t179   \t0.490613\t0.2595  \t0.247272\t0.978524\n",
            "67 \t179   \t0.517791\t0.279407\t0.247272\t0.978574\n",
            "68 \t179   \t0.534017\t0.279386\t0.247272\t0.978655\n",
            "69 \t179   \t0.494628\t0.260499\t0.247272\t0.978668\n",
            "70 \t179   \t0.49212 \t0.259096\t0.247272\t0.978494\n",
            "71 \t179   \t0.492367\t0.262439\t0.247272\t0.978653\n",
            "72 \t179   \t0.50351 \t0.277409\t0.247272\t0.978429\n",
            "73 \t179   \t0.502706\t0.270132\t0.247272\t0.97867 \n",
            "74 \t179   \t0.492009\t0.26877 \t0.247272\t0.978648\n",
            "75 \t179   \t0.500161\t0.268036\t0.247272\t0.978662\n",
            "76 \t179   \t0.517307\t0.266731\t0.247272\t0.97867 \n",
            "77 \t179   \t0.474387\t0.250026\t0.247272\t0.978645\n",
            "78 \t179   \t0.510604\t0.275983\t0.247272\t0.978534\n",
            "79 \t179   \t0.512507\t0.280203\t0.247272\t0.978604\n",
            "80 \t179   \t0.549633\t0.27668 \t0.247272\t0.978661\n",
            "81 \t179   \t0.499051\t0.254172\t0.247272\t0.978642\n",
            "82 \t179   \t0.508539\t0.267788\t0.247272\t0.97867 \n",
            "83 \t179   \t0.488265\t0.261975\t0.247272\t0.978638\n",
            "84 \t179   \t0.476478\t0.263493\t0.247272\t0.977746\n",
            "85 \t179   \t0.555513\t0.291215\t0.247272\t0.978669\n",
            "86 \t179   \t0.524608\t0.269291\t0.247272\t0.978668\n",
            "87 \t179   \t0.489131\t0.266807\t0.247272\t0.97867 \n",
            "88 \t179   \t0.490875\t0.261663\t0.247272\t0.978322\n",
            "89 \t179   \t0.521333\t0.274264\t0.240259\t0.978669\n",
            "90 \t179   \t0.486747\t0.25727 \t0.240259\t0.978534\n",
            "91 \t179   \t0.488408\t0.26244 \t0.240259\t0.97867 \n",
            "92 \t179   \t0.51998 \t0.276389\t0.240259\t0.978488\n",
            "93 \t179   \t0.498851\t0.26714 \t0.240259\t0.978642\n",
            "94 \t179   \t0.4927  \t0.267209\t0.240259\t0.977951\n",
            "95 \t179   \t0.491956\t0.261611\t0.240259\t0.978669\n",
            "96 \t179   \t0.532316\t0.265513\t0.240259\t0.978656\n",
            "97 \t179   \t0.513847\t0.256139\t0.240259\t0.978668\n",
            "98 \t179   \t0.527181\t0.263017\t0.240259\t0.97867 \n",
            "99 \t179   \t0.528243\t0.263361\t0.240259\t0.97866 \n",
            "100\t179   \t0.517094\t0.254401\t0.240259\t0.978657\n"
          ],
          "name": "stdout"
        }
      ]
    },
    {
      "cell_type": "code",
      "metadata": {
        "colab": {
          "base_uri": "https://localhost:8080/"
        },
        "id": "Cx_kdkavhxVH",
        "outputId": "82362635-e3a2-4fe2-e030-e29bcbec0b64"
      },
      "source": [
        "print (\"Evolution times were:\\n\\nStarted:\\t\", startDT, \"\\nEnded:   \\t\", str(datetime.datetime.now()))"
      ],
      "execution_count": 245,
      "outputs": [
        {
          "output_type": "stream",
          "text": [
            "Evolution times were:\n",
            "\n",
            "Started:\t 2021-03-16 17:46:01.411545 \n",
            "Ended:   \t 2021-03-16 17:46:50.438019\n"
          ],
          "name": "stdout"
        }
      ]
    },
    {
      "cell_type": "code",
      "metadata": {
        "colab": {
          "base_uri": "https://localhost:8080/"
        },
        "id": "twKQJ_Jch0Gx",
        "outputId": "05957176-01c2-48ed-c206-f7c569a6de30"
      },
      "source": [
        "\n",
        "\n",
        "print(hof[0])\n",
        "\n"
      ],
      "execution_count": 248,
      "outputs": [
        {
          "output_type": "stream",
          "text": [
            "add(\n",
            "\tmul(rm, lstat),\n",
            "\tadd(ptratio, add(sub(lstat, rm), sub(lstat, sin(ptratio))))\n",
            ")\n"
          ],
          "name": "stdout"
        }
      ]
    },
    {
      "cell_type": "code",
      "metadata": {
        "colab": {
          "base_uri": "https://localhost:8080/",
          "height": 413
        },
        "id": "i_BAu6mFh4CL",
        "outputId": "f84b983e-16b6-4d31-ca65-824f470211c1"
      },
      "source": [
        "\n",
        "\n",
        "# print the best symbolic regression we found:\n",
        "best_ind = hof[0]\n",
        "symplified_best = gep.simplify(best_ind)\n",
        "\n",
        "if enable_ls:\n",
        "    symplified_best = best_ind.a * symplified_best + best_ind.b\n",
        "\n",
        "key= '''\n",
        "#Given training examples of\n",
        "\n",
        "    AT = Atmospheric Temperature (C)\n",
        "    V = Exhaust Vacuum Speed\n",
        "    AP = Atmospheric Pressure\n",
        "    RH = Relative Humidity\n",
        "\n",
        "we trained a computer using Genetic Algorithms to predict the \n",
        "\n",
        "    PE = Power Output\n",
        "\n",
        "Our symbolic regression process found the following equation offers our best prediction:\n",
        "\n",
        "'''\n",
        "\n",
        "print('\\n', key,'\\t', str(symplified_best), '\\n\\nwhich formally is presented as:\\n\\n')\n",
        "\n",
        "from sympy import *\n",
        "init_printing()\n",
        "symplified_best"
      ],
      "execution_count": 249,
      "outputs": [
        {
          "output_type": "stream",
          "text": [
            "\n",
            " \n",
            "#Given training examples of\n",
            "\n",
            "    AT = Atmospheric Temperature (C)\n",
            "    V = Exhaust Vacuum Speed\n",
            "    AP = Atmospheric Pressure\n",
            "    RH = Relative Humidity\n",
            "\n",
            "we trained a computer using Genetic Algorithms to predict the \n",
            "\n",
            "    PE = Power Output\n",
            "\n",
            "Our symbolic regression process found the following equation offers our best prediction:\n",
            "\n",
            " \t -0.289835688960316*lstat*rm - 0.579671377920632*lstat - 0.289835688960316*ptratio + 0.289835688960316*rm + 0.289835688960316*sin(ptratio) - 0.208269336281887 \n",
            "\n",
            "which formally is presented as:\n",
            "\n",
            "\n"
          ],
          "name": "stdout"
        },
        {
          "output_type": "execute_result",
          "data": {
            "image/png": "[encoded data removed]",
            "text/latex": "$\\displaystyle - 0.289835688960316 lstat rm - 0.579671377920632 lstat - 0.289835688960316 ptratio + 0.289835688960316 rm + 0.289835688960316 \\sin{\\left(ptratio \\right)} - 0.208269336281887$",
            "text/plain": [
              "-0.289835688960316⋅lstat⋅rm - 0.579671377920632⋅lstat - 0.289835688960316⋅ptra\n",
              "tio + 0.289835688960316⋅rm + 0.289835688960316⋅sin(ptratio) - 0.20826933628188\n",
              "7"
            ]
          },
          "metadata": {
            "tags": []
          },
          "execution_count": 249
        }
      ]
    },
    {
      "cell_type": "code",
      "metadata": {
        "id": "YY1AOTzI7kAJ"
      },
      "source": [
        ""
      ],
      "execution_count": null,
      "outputs": []
    },
    {
      "cell_type": "code",
      "metadata": {
        "id": "PVMhl8-6i8dk"
      },
      "source": [
        "\n",
        "# we want to use symbol labels instead of words in the tree graph\n",
        "rename_labels = {'add': '+', 'sub': '-', 'mul': '*', 'protected_div': '/'}  \n",
        "gep.export_expression_tree(best_ind, rename_labels, 'numerical_expression_tree.png')\n",
        "\n"
      ],
      "execution_count": 250,
      "outputs": []
    },
    {
      "cell_type": "code",
      "metadata": {
        "colab": {
          "base_uri": "https://localhost:8080/",
          "height": 556
        },
        "id": "DkGlUswvh7ui",
        "outputId": "8cf74b2d-d18f-4505-9bd3-3bef1a5cf12c"
      },
      "source": [
        "# show the above image here for convenience\n",
        "from IPython.display import Image\n",
        "Image(filename='numerical_expression_tree.png')"
      ],
      "execution_count": 251,
      "outputs": [
        {
          "output_type": "execute_result",
          "data": {
            "image/png": "[encoded data removed]",
            "text/plain": [
              "<IPython.core.display.Image object>"
            ]
          },
          "metadata": {
            "tags": []
          },
          "execution_count": 251
        }
      ]
    },
    {
      "cell_type": "code",
      "metadata": {
        "colab": {
          "base_uri": "https://localhost:8080/"
        },
        "id": "rneCjZX8kcZS",
        "outputId": "7c7e7d37-f5ff-4c25-e43b-649cf2306acb"
      },
      "source": [
        "crim = train['crim'].values\n",
        "zn = train['zn'].values\n",
        "indus = train['indus'].values\n",
        "chas = train['chas'].values\n",
        "nox = train['nox'].values\n",
        "rm = train['rm'].values#\n",
        "age = train['age'].values\n",
        "dis = train['dis'].values\n",
        "rad = train['rad'].values\n",
        "tax = train['tax'].values\n",
        "ptratio = train['ptratio'].values\n",
        "black = train['black'].values\n",
        "lstat = train['lstat'].values#\n",
        "Y = train['medv'].values\n",
        "n=indus.size\n",
        "print(n)\n",
        "arr=np.zeros(n)\n",
        "print(arr.size)\n",
        "for i in range(0,n):\n",
        "    arr[i]= -0.289835688960316*lstat[i]*rm[i] - 0.579671377920632*lstat[i] - 0.289835688960316*ptratio[i] + 0.289835688960316*rm[i] + 0.289835688960316*sin(ptratio[i]) - 0.208269336281887\n"
      ],
      "execution_count": 253,
      "outputs": [
        {
          "output_type": "stream",
          "text": [
            "398\n",
            "398\n"
          ],
          "name": "stdout"
        }
      ]
    },
    {
      "cell_type": "code",
      "metadata": {
        "colab": {
          "base_uri": "https://localhost:8080/"
        },
        "id": "kuAzNTolsHmO",
        "outputId": "56f371b6-b676-4b65-da97-d1d874969417"
      },
      "source": [
        "\n",
        "#Train\n",
        "from sklearn.metrics import mean_squared_error, r2_score, mean_absolute_error\n",
        "print(\"Mean squared error: %.7f\" % mean_squared_error(Y, arr))\n",
        "print(\"R2 score : %.7f\" % r2_score(Y, arr))\n",
        "print(\"MAE : %.7f\" % mean_absolute_error(Y, arr))\n",
        "a=np.sqrt(mean_squared_error(Y, arr))\n",
        "print(\"RMSE  : %.7f\" % a)"
      ],
      "execution_count": 254,
      "outputs": [
        {
          "output_type": "stream",
          "text": [
            "Mean squared error: 0.2402589\n",
            "R2 score : 0.7545047\n",
            "MAE : 0.3240595\n",
            "RMSE  : 0.4901622\n"
          ],
          "name": "stdout"
        }
      ]
    },
    {
      "cell_type": "code",
      "metadata": {
        "colab": {
          "base_uri": "https://localhost:8080/"
        },
        "id": "NR1g63TG1dXF",
        "outputId": "a27d67ab-268a-4e69-f343-c5a043f0d701"
      },
      "source": [
        "#test\n",
        "\n",
        "crim = holdout['crim'].values\n",
        "zn = holdout['zn'].values\n",
        "indus = holdout['indus'].values\n",
        "chas = holdout['chas'].values\n",
        "nox = holdout['nox'].values\n",
        "rm = holdout['rm'].values\n",
        "age = holdout['age'].values\n",
        "dis = holdout['dis'].values\n",
        "rad = holdout['rad'].values\n",
        "tax = holdout['tax'].values\n",
        "ptratio = holdout['ptratio'].values\n",
        "black = holdout['black'].values\n",
        "lstat = holdout['lstat'].values\n",
        "Y2 = holdout['medv'].values\n",
        "\n",
        "n=indus.size\n",
        "print(n)\n",
        "arr2=np.zeros(n)\n",
        "print(arr2.size)\n",
        "for i in range(0,n):\n",
        "     arr2[i]=   -0.289835688960316*lstat[i]*rm[i] - 0.579671377920632*lstat[i] - 0.289835688960316*ptratio[i] + 0.289835688960316*rm[i] + 0.289835688960316*sin(ptratio[i]) - 0.208269336281887\n",
        "     #-0.776168824557747*lstat[i] - 0.776168824557747*ptratio[i] + 2.32850647367324*rm[i] - 0.776168824557747*(dis[i] + 8)*cos(rm[i]) - 0.776168824557747*cos(tan(zn[i])) + 40.2676568980662\n",
        "\n",
        "print(\"Mean squared error: %.7f\" % mean_squared_error(Y2, arr2))\n",
        "print(\"R2 score : %.7f\" % r2_score(Y2, arr2))\n",
        "print(\"MAE : %.7f\" % mean_absolute_error(Y2, arr2))\n",
        "a=np.sqrt(mean_squared_error(Y2, arr2))\n",
        "print(\"RMSE  : %.7f\" % a)\n",
        "#-0.507097948563564*sin(sin(2*lstat[i])) - 0.507097948563564*cos(rm[i]*tan(cos(ptratio[i]))) + 1.0507016967642\n",
        "#-0.220643443514503*sin(lstat[i] - sin(rm[i] - tan(ptratio[i])) + tan(dis[i] + lstat[i])) - 0.220643443514503*tan(sin(2*lstat[i] - tan(rm[i]))) + 0.549942691732136"
      ],
      "execution_count": 255,
      "outputs": [
        {
          "output_type": "stream",
          "text": [
            "108\n",
            "108\n",
            "Mean squared error: 0.2843724\n",
            "R2 score : 0.7340679\n",
            "MAE : 0.3274162\n",
            "RMSE  : 0.5332658\n"
          ],
          "name": "stdout"
        }
      ]
    },
    {
      "cell_type": "code",
      "metadata": {
        "id": "GqNdZiibedwN"
      },
      "source": [
        ""
      ],
      "execution_count": null,
      "outputs": []
    },
    {
      "cell_type": "markdown",
      "metadata": {
        "id": "lUabW8uAvwl-"
      },
      "source": [
        "Extras\n",
        "\n",
        "\n"
      ]
    },
    {
      "cell_type": "code",
      "metadata": {
        "colab": {
          "base_uri": "https://localhost:8080/",
          "height": 267
        },
        "id": "0ezMTljobUVQ",
        "outputId": "653fee2a-d7cf-4d4c-c99d-eb5be40cf0f9"
      },
      "source": [
        "#Test\n",
        "from matplotlib import pyplot\n",
        "pyplot.rcParams['figure.figsize'] = [25, 5]\n",
        "plotlen=200\n",
        "pyplot.plot(arr2)# predictions are in blue\n",
        "pyplot.plot(Y2) # actual values are in orange\n",
        "pyplot.show()"
      ],
      "execution_count": null,
      "outputs": [
        {
          "output_type": "display_data",
          "data": {
            "image/png": "[encoded data removed]",
            "text/plain": [
              "<Figure size 1800x360 with 1 Axes>"
            ]
          },
          "metadata": {
            "tags": [],
            "needs_background": "light"
          }
        }
      ]
    },
    {
      "cell_type": "code",
      "metadata": {
        "colab": {
          "base_uri": "https://localhost:8080/",
          "height": 320
        },
        "id": "Munfdyxkef9q",
        "outputId": "c1b684b3-f964-4818-e2a0-40a2e500af13"
      },
      "source": [
        "#Train\n",
        "from matplotlib import pyplot\n",
        "pyplot.rcParams['figure.figsize'] = [20, 5]\n",
        "plotlen=200\n",
        "pyplot.plot(arr)# predictions are in blue\n",
        "pyplot.plot(Y) # actual values are in orange\n",
        "pyplot.show()"
      ],
      "execution_count": null,
      "outputs": [
        {
          "output_type": "display_data",
          "data": {
            "image/png": "[encoded data removed]",
            "text/plain": [
              "<Figure size 1440x360 with 1 Axes>"
            ]
          },
          "metadata": {
            "tags": [],
            "needs_background": "light"
          }
        }
      ]
    },
    {
      "cell_type": "code",
      "metadata": {
        "colab": {
          "base_uri": "https://localhost:8080/",
          "height": 254
        },
        "id": "9K9cKpRn0QZ7",
        "outputId": "2ed5618e-e5a4-4bb0-b33f-e63ef0536b42"
      },
      "source": [
        "def CalculateBestModelOutput( crim, zn, indus, chas, nox, rm, age, dis, rad, tax, ptratio, black, lstat, model):\n",
        "    # pass in a string view of the \"model\" as str(symplified_best) \n",
        "    # this string view of the equation may reference any of the other inputs, AT, V, AP, RH we registered\n",
        "    # we then use eval of this string to calculate the answer for these inputs\n",
        "    return eval(model) \n",
        "Ypredict = CalculateBestModelOutput( str(symplified_best))\n",
        "from sklearn.metrics import mean_squared_error, r2_score\n",
        "print(\"Mean squared error: %.2f\" % mean_squared_error(Y, Ypredict))\n",
        "print(\"R2 score : %.2f\" % r2_score(Y, Ypredict))\n"
      ],
      "execution_count": null,
      "outputs": [
        {
          "output_type": "error",
          "ename": "TypeError",
          "evalue": "ignored",
          "traceback": [
            "\u001b[0;31m---------------------------------------------------------------------------\u001b[0m",
            "\u001b[0;31mTypeError\u001b[0m                                 Traceback (most recent call last)",
            "\u001b[0;32m<ipython-input-362-a5a18f3eaafe>\u001b[0m in \u001b[0;36m<module>\u001b[0;34m()\u001b[0m\n\u001b[1;32m      4\u001b[0m     \u001b[0;31m# we then use eval of this string to calculate the answer for these inputs\u001b[0m\u001b[0;34m\u001b[0m\u001b[0;34m\u001b[0m\u001b[0;34m\u001b[0m\u001b[0m\n\u001b[1;32m      5\u001b[0m     \u001b[0;32mreturn\u001b[0m \u001b[0meval\u001b[0m\u001b[0;34m(\u001b[0m\u001b[0mmodel\u001b[0m\u001b[0;34m)\u001b[0m\u001b[0;34m\u001b[0m\u001b[0;34m\u001b[0m\u001b[0m\n\u001b[0;32m----> 6\u001b[0;31m \u001b[0mYpredict\u001b[0m \u001b[0;34m=\u001b[0m \u001b[0mCalculateBestModelOutput\u001b[0m\u001b[0;34m(\u001b[0m \u001b[0mstr\u001b[0m\u001b[0;34m(\u001b[0m\u001b[0msymplified_best\u001b[0m\u001b[0;34m)\u001b[0m\u001b[0;34m)\u001b[0m\u001b[0;34m\u001b[0m\u001b[0;34m\u001b[0m\u001b[0m\n\u001b[0m\u001b[1;32m      7\u001b[0m \u001b[0;32mfrom\u001b[0m \u001b[0msklearn\u001b[0m\u001b[0;34m.\u001b[0m\u001b[0mmetrics\u001b[0m \u001b[0;32mimport\u001b[0m \u001b[0mmean_squared_error\u001b[0m\u001b[0;34m,\u001b[0m \u001b[0mr2_score\u001b[0m\u001b[0;34m\u001b[0m\u001b[0;34m\u001b[0m\u001b[0m\n\u001b[1;32m      8\u001b[0m \u001b[0mprint\u001b[0m\u001b[0;34m(\u001b[0m\u001b[0;34m\"Mean squared error: %.2f\"\u001b[0m \u001b[0;34m%\u001b[0m \u001b[0mmean_squared_error\u001b[0m\u001b[0;34m(\u001b[0m\u001b[0mY\u001b[0m\u001b[0;34m,\u001b[0m \u001b[0mYpredict\u001b[0m\u001b[0;34m)\u001b[0m\u001b[0;34m)\u001b[0m\u001b[0;34m\u001b[0m\u001b[0;34m\u001b[0m\u001b[0m\n",
            "\u001b[0;31mTypeError\u001b[0m: CalculateBestModelOutput() missing 13 required positional arguments: 'zn', 'indus', 'chas', 'nox', 'rm', 'age', 'dis', 'rad', 'tax', 'ptratio', 'black', 'lstat', and 'model'"
          ]
        }
      ]
    },
    {
      "cell_type": "code",
      "metadata": {
        "colab": {
          "base_uri": "https://localhost:8080/",
          "height": 573
        },
        "id": "C77Z54fUSybT",
        "outputId": "d8c3758b-7c3c-494c-bef4-0fe0acb42938"
      },
      "source": [
        "#test\n",
        "X1_ = holdout['X1 transaction date'].values\n",
        "X2_ = holdout['X2 house age'].values\n",
        "X3_ = holdout['X3 distance to the nearest MRT station'].values\n",
        "X4_ = holdout['X4 number of convenience stores'].values\n",
        "X5_ = holdout['X5 latitude'].values\n",
        "X6_ = holdout['X6 longitude'].values\n",
        "Y_ = holdout['Y house price of unit area'].values\n",
        "n=X1_.size\n",
        "print(\"Total test data = \"+str(n))\n",
        "\n",
        "\n",
        "def CalculateBestModelOutput(X1_,X2_,X3_,X4_,X5_,X6_, model):\n",
        "    # pass in a string view of the \"model\" as str(symplified_best)\n",
        "    # this string view of the equation may reference any of the other inputs, AT, V, AP, RH we registered\n",
        "    # we then use eval of this string to calculate the answer for these inputs\n",
        "    return eval(model) \n",
        "    \n",
        "Ypredict = CalculateBestModelOutput(X1_,X2_,X3_,X4_,X5_,X6_, str(symplified_best))\n",
        "from sklearn.metrics import mean_squared_error, r2_score\n",
        "print(\"Mean squared error: %.2f\" % mean_squared_error(Y_, Ypredict))\n",
        "print(\"R2 score : %.2f\" % r2_score(Y_, Ypredict))\n"
      ],
      "execution_count": null,
      "outputs": [
        {
          "output_type": "stream",
          "text": [
            "Total test data = 77\n"
          ],
          "name": "stdout"
        },
        {
          "output_type": "error",
          "ename": "AttributeError",
          "evalue": "ignored",
          "traceback": [
            "\u001b[0;31m---------------------------------------------------------------------------\u001b[0m",
            "\u001b[0;31mTypeError\u001b[0m                                 Traceback (most recent call last)",
            "\u001b[0;32m/usr/local/lib/python3.7/dist-packages/sympy/core/cache.py\u001b[0m in \u001b[0;36mwrapper\u001b[0;34m(*args, **kwargs)\u001b[0m\n\u001b[1;32m     71\u001b[0m             \u001b[0;32mtry\u001b[0m\u001b[0;34m:\u001b[0m\u001b[0;34m\u001b[0m\u001b[0;34m\u001b[0m\u001b[0m\n\u001b[0;32m---> 72\u001b[0;31m                 \u001b[0mretval\u001b[0m \u001b[0;34m=\u001b[0m \u001b[0mcfunc\u001b[0m\u001b[0;34m(\u001b[0m\u001b[0;34m*\u001b[0m\u001b[0margs\u001b[0m\u001b[0;34m,\u001b[0m \u001b[0;34m**\u001b[0m\u001b[0mkwargs\u001b[0m\u001b[0;34m)\u001b[0m\u001b[0;34m\u001b[0m\u001b[0;34m\u001b[0m\u001b[0m\n\u001b[0m\u001b[1;32m     73\u001b[0m             \u001b[0;32mexcept\u001b[0m \u001b[0mTypeError\u001b[0m\u001b[0;34m:\u001b[0m\u001b[0;34m\u001b[0m\u001b[0;34m\u001b[0m\u001b[0m\n",
            "\u001b[0;31mTypeError\u001b[0m: unhashable type: 'numpy.ndarray'",
            "\nDuring handling of the above exception, another exception occurred:\n",
            "\u001b[0;31mTypeError\u001b[0m                                 Traceback (most recent call last)",
            "\u001b[0;32m/usr/local/lib/python3.7/dist-packages/sympy/core/cache.py\u001b[0m in \u001b[0;36mwrapper\u001b[0;34m(*args, **kwargs)\u001b[0m\n\u001b[1;32m     71\u001b[0m             \u001b[0;32mtry\u001b[0m\u001b[0;34m:\u001b[0m\u001b[0;34m\u001b[0m\u001b[0;34m\u001b[0m\u001b[0m\n\u001b[0;32m---> 72\u001b[0;31m                 \u001b[0mretval\u001b[0m \u001b[0;34m=\u001b[0m \u001b[0mcfunc\u001b[0m\u001b[0;34m(\u001b[0m\u001b[0;34m*\u001b[0m\u001b[0margs\u001b[0m\u001b[0;34m,\u001b[0m \u001b[0;34m**\u001b[0m\u001b[0mkwargs\u001b[0m\u001b[0;34m)\u001b[0m\u001b[0;34m\u001b[0m\u001b[0;34m\u001b[0m\u001b[0m\n\u001b[0m\u001b[1;32m     73\u001b[0m             \u001b[0;32mexcept\u001b[0m \u001b[0mTypeError\u001b[0m\u001b[0;34m:\u001b[0m\u001b[0;34m\u001b[0m\u001b[0;34m\u001b[0m\u001b[0m\n",
            "\u001b[0;31mTypeError\u001b[0m: unhashable type: 'numpy.ndarray'",
            "\nDuring handling of the above exception, another exception occurred:\n",
            "\u001b[0;31mAttributeError\u001b[0m                            Traceback (most recent call last)",
            "\u001b[0;32m<ipython-input-77-b1132f8e12d8>\u001b[0m in \u001b[0;36m<module>\u001b[0;34m()\u001b[0m\n\u001b[1;32m     16\u001b[0m     \u001b[0;31m# we then use eval of this string to calculate the answer for these inputs\u001b[0m\u001b[0;34m\u001b[0m\u001b[0;34m\u001b[0m\u001b[0;34m\u001b[0m\u001b[0m\n\u001b[1;32m     17\u001b[0m     \u001b[0;32mreturn\u001b[0m \u001b[0meval\u001b[0m\u001b[0;34m(\u001b[0m\u001b[0mmodel\u001b[0m\u001b[0;34m)\u001b[0m\u001b[0;34m\u001b[0m\u001b[0;34m\u001b[0m\u001b[0m\n\u001b[0;32m---> 18\u001b[0;31m \u001b[0mYpredict\u001b[0m \u001b[0;34m=\u001b[0m \u001b[0mCalculateBestModelOutput\u001b[0m\u001b[0;34m(\u001b[0m\u001b[0mX1_\u001b[0m\u001b[0;34m,\u001b[0m\u001b[0mX2_\u001b[0m\u001b[0;34m,\u001b[0m\u001b[0mX3_\u001b[0m\u001b[0;34m,\u001b[0m\u001b[0mX4_\u001b[0m\u001b[0;34m,\u001b[0m\u001b[0mX5_\u001b[0m\u001b[0;34m,\u001b[0m\u001b[0mX6_\u001b[0m\u001b[0;34m,\u001b[0m \u001b[0mstr\u001b[0m\u001b[0;34m(\u001b[0m\u001b[0msymplified_best\u001b[0m\u001b[0;34m)\u001b[0m\u001b[0;34m)\u001b[0m\u001b[0;34m\u001b[0m\u001b[0;34m\u001b[0m\u001b[0m\n\u001b[0m\u001b[1;32m     19\u001b[0m \u001b[0;32mfrom\u001b[0m \u001b[0msklearn\u001b[0m\u001b[0;34m.\u001b[0m\u001b[0mmetrics\u001b[0m \u001b[0;32mimport\u001b[0m \u001b[0mmean_squared_error\u001b[0m\u001b[0;34m,\u001b[0m \u001b[0mr2_score\u001b[0m\u001b[0;34m\u001b[0m\u001b[0;34m\u001b[0m\u001b[0m\n\u001b[1;32m     20\u001b[0m \u001b[0mprint\u001b[0m\u001b[0;34m(\u001b[0m\u001b[0;34m\"Mean squared error: %.2f\"\u001b[0m \u001b[0;34m%\u001b[0m \u001b[0mmean_squared_error\u001b[0m\u001b[0;34m(\u001b[0m\u001b[0mY_\u001b[0m\u001b[0;34m,\u001b[0m \u001b[0mYpredict\u001b[0m\u001b[0;34m)\u001b[0m\u001b[0;34m)\u001b[0m\u001b[0;34m\u001b[0m\u001b[0;34m\u001b[0m\u001b[0m\n",
            "\u001b[0;32m<ipython-input-77-b1132f8e12d8>\u001b[0m in \u001b[0;36mCalculateBestModelOutput\u001b[0;34m(X1_, X2_, X3_, X4_, X5_, X6_, model)\u001b[0m\n\u001b[1;32m     15\u001b[0m     \u001b[0;31m# this string view of the equation may reference any of the other inputs, AT, V, AP, RH we registered\u001b[0m\u001b[0;34m\u001b[0m\u001b[0;34m\u001b[0m\u001b[0;34m\u001b[0m\u001b[0m\n\u001b[1;32m     16\u001b[0m     \u001b[0;31m# we then use eval of this string to calculate the answer for these inputs\u001b[0m\u001b[0;34m\u001b[0m\u001b[0;34m\u001b[0m\u001b[0;34m\u001b[0m\u001b[0m\n\u001b[0;32m---> 17\u001b[0;31m     \u001b[0;32mreturn\u001b[0m \u001b[0meval\u001b[0m\u001b[0;34m(\u001b[0m\u001b[0mmodel\u001b[0m\u001b[0;34m)\u001b[0m\u001b[0;34m\u001b[0m\u001b[0;34m\u001b[0m\u001b[0m\n\u001b[0m\u001b[1;32m     18\u001b[0m \u001b[0mYpredict\u001b[0m \u001b[0;34m=\u001b[0m \u001b[0mCalculateBestModelOutput\u001b[0m\u001b[0;34m(\u001b[0m\u001b[0mX1_\u001b[0m\u001b[0;34m,\u001b[0m\u001b[0mX2_\u001b[0m\u001b[0;34m,\u001b[0m\u001b[0mX3_\u001b[0m\u001b[0;34m,\u001b[0m\u001b[0mX4_\u001b[0m\u001b[0;34m,\u001b[0m\u001b[0mX5_\u001b[0m\u001b[0;34m,\u001b[0m\u001b[0mX6_\u001b[0m\u001b[0;34m,\u001b[0m \u001b[0mstr\u001b[0m\u001b[0;34m(\u001b[0m\u001b[0msymplified_best\u001b[0m\u001b[0;34m)\u001b[0m\u001b[0;34m)\u001b[0m\u001b[0;34m\u001b[0m\u001b[0;34m\u001b[0m\u001b[0m\n\u001b[1;32m     19\u001b[0m \u001b[0;32mfrom\u001b[0m \u001b[0msklearn\u001b[0m\u001b[0;34m.\u001b[0m\u001b[0mmetrics\u001b[0m \u001b[0;32mimport\u001b[0m \u001b[0mmean_squared_error\u001b[0m\u001b[0;34m,\u001b[0m \u001b[0mr2_score\u001b[0m\u001b[0;34m\u001b[0m\u001b[0;34m\u001b[0m\u001b[0m\n",
            "\u001b[0;32m<string>\u001b[0m in \u001b[0;36m<module>\u001b[0;34m()\u001b[0m\n",
            "\u001b[0;32m/usr/local/lib/python3.7/dist-packages/sympy/core/cache.py\u001b[0m in \u001b[0;36mwrapper\u001b[0;34m(*args, **kwargs)\u001b[0m\n\u001b[1;32m     72\u001b[0m                 \u001b[0mretval\u001b[0m \u001b[0;34m=\u001b[0m \u001b[0mcfunc\u001b[0m\u001b[0;34m(\u001b[0m\u001b[0;34m*\u001b[0m\u001b[0margs\u001b[0m\u001b[0;34m,\u001b[0m \u001b[0;34m**\u001b[0m\u001b[0mkwargs\u001b[0m\u001b[0;34m)\u001b[0m\u001b[0;34m\u001b[0m\u001b[0;34m\u001b[0m\u001b[0m\n\u001b[1;32m     73\u001b[0m             \u001b[0;32mexcept\u001b[0m \u001b[0mTypeError\u001b[0m\u001b[0;34m:\u001b[0m\u001b[0;34m\u001b[0m\u001b[0;34m\u001b[0m\u001b[0m\n\u001b[0;32m---> 74\u001b[0;31m                 \u001b[0mretval\u001b[0m \u001b[0;34m=\u001b[0m \u001b[0mfunc\u001b[0m\u001b[0;34m(\u001b[0m\u001b[0;34m*\u001b[0m\u001b[0margs\u001b[0m\u001b[0;34m,\u001b[0m \u001b[0;34m**\u001b[0m\u001b[0mkwargs\u001b[0m\u001b[0;34m)\u001b[0m\u001b[0;34m\u001b[0m\u001b[0;34m\u001b[0m\u001b[0m\n\u001b[0m\u001b[1;32m     75\u001b[0m             \u001b[0;32mreturn\u001b[0m \u001b[0mretval\u001b[0m\u001b[0;34m\u001b[0m\u001b[0;34m\u001b[0m\u001b[0m\n\u001b[1;32m     76\u001b[0m \u001b[0;34m\u001b[0m\u001b[0m\n",
            "\u001b[0;32m/usr/local/lib/python3.7/dist-packages/sympy/core/function.py\u001b[0m in \u001b[0;36m__new__\u001b[0;34m(cls, *args, **options)\u001b[0m\n\u001b[1;32m    471\u001b[0m \u001b[0;34m\u001b[0m\u001b[0m\n\u001b[1;32m    472\u001b[0m         \u001b[0mevaluate\u001b[0m \u001b[0;34m=\u001b[0m \u001b[0moptions\u001b[0m\u001b[0;34m.\u001b[0m\u001b[0mget\u001b[0m\u001b[0;34m(\u001b[0m\u001b[0;34m'evaluate'\u001b[0m\u001b[0;34m,\u001b[0m \u001b[0mglobal_parameters\u001b[0m\u001b[0;34m.\u001b[0m\u001b[0mevaluate\u001b[0m\u001b[0;34m)\u001b[0m\u001b[0;34m\u001b[0m\u001b[0;34m\u001b[0m\u001b[0m\n\u001b[0;32m--> 473\u001b[0;31m         \u001b[0mresult\u001b[0m \u001b[0;34m=\u001b[0m \u001b[0msuper\u001b[0m\u001b[0;34m(\u001b[0m\u001b[0;34m)\u001b[0m\u001b[0;34m.\u001b[0m\u001b[0m__new__\u001b[0m\u001b[0;34m(\u001b[0m\u001b[0mcls\u001b[0m\u001b[0;34m,\u001b[0m \u001b[0;34m*\u001b[0m\u001b[0margs\u001b[0m\u001b[0;34m,\u001b[0m \u001b[0;34m**\u001b[0m\u001b[0moptions\u001b[0m\u001b[0;34m)\u001b[0m\u001b[0;34m\u001b[0m\u001b[0;34m\u001b[0m\u001b[0m\n\u001b[0m\u001b[1;32m    474\u001b[0m         \u001b[0;32mif\u001b[0m \u001b[0mevaluate\u001b[0m \u001b[0;32mand\u001b[0m \u001b[0misinstance\u001b[0m\u001b[0;34m(\u001b[0m\u001b[0mresult\u001b[0m\u001b[0;34m,\u001b[0m \u001b[0mcls\u001b[0m\u001b[0;34m)\u001b[0m \u001b[0;32mand\u001b[0m \u001b[0mresult\u001b[0m\u001b[0;34m.\u001b[0m\u001b[0margs\u001b[0m\u001b[0;34m:\u001b[0m\u001b[0;34m\u001b[0m\u001b[0;34m\u001b[0m\u001b[0m\n\u001b[1;32m    475\u001b[0m             \u001b[0mpr2\u001b[0m \u001b[0;34m=\u001b[0m \u001b[0mmin\u001b[0m\u001b[0;34m(\u001b[0m\u001b[0mcls\u001b[0m\u001b[0;34m.\u001b[0m\u001b[0m_should_evalf\u001b[0m\u001b[0;34m(\u001b[0m\u001b[0ma\u001b[0m\u001b[0;34m)\u001b[0m \u001b[0;32mfor\u001b[0m \u001b[0ma\u001b[0m \u001b[0;32min\u001b[0m \u001b[0mresult\u001b[0m\u001b[0;34m.\u001b[0m\u001b[0margs\u001b[0m\u001b[0;34m)\u001b[0m\u001b[0;34m\u001b[0m\u001b[0;34m\u001b[0m\u001b[0m\n",
            "\u001b[0;32m/usr/local/lib/python3.7/dist-packages/sympy/core/cache.py\u001b[0m in \u001b[0;36mwrapper\u001b[0;34m(*args, **kwargs)\u001b[0m\n\u001b[1;32m     72\u001b[0m                 \u001b[0mretval\u001b[0m \u001b[0;34m=\u001b[0m \u001b[0mcfunc\u001b[0m\u001b[0;34m(\u001b[0m\u001b[0;34m*\u001b[0m\u001b[0margs\u001b[0m\u001b[0;34m,\u001b[0m \u001b[0;34m**\u001b[0m\u001b[0mkwargs\u001b[0m\u001b[0;34m)\u001b[0m\u001b[0;34m\u001b[0m\u001b[0;34m\u001b[0m\u001b[0m\n\u001b[1;32m     73\u001b[0m             \u001b[0;32mexcept\u001b[0m \u001b[0mTypeError\u001b[0m\u001b[0;34m:\u001b[0m\u001b[0;34m\u001b[0m\u001b[0;34m\u001b[0m\u001b[0m\n\u001b[0;32m---> 74\u001b[0;31m                 \u001b[0mretval\u001b[0m \u001b[0;34m=\u001b[0m \u001b[0mfunc\u001b[0m\u001b[0;34m(\u001b[0m\u001b[0;34m*\u001b[0m\u001b[0margs\u001b[0m\u001b[0;34m,\u001b[0m \u001b[0;34m**\u001b[0m\u001b[0mkwargs\u001b[0m\u001b[0;34m)\u001b[0m\u001b[0;34m\u001b[0m\u001b[0;34m\u001b[0m\u001b[0m\n\u001b[0m\u001b[1;32m     75\u001b[0m             \u001b[0;32mreturn\u001b[0m \u001b[0mretval\u001b[0m\u001b[0;34m\u001b[0m\u001b[0;34m\u001b[0m\u001b[0m\n\u001b[1;32m     76\u001b[0m \u001b[0;34m\u001b[0m\u001b[0m\n",
            "\u001b[0;32m/usr/local/lib/python3.7/dist-packages/sympy/core/function.py\u001b[0m in \u001b[0;36m__new__\u001b[0;34m(cls, *args, **options)\u001b[0m\n\u001b[1;32m    283\u001b[0m \u001b[0;34m\u001b[0m\u001b[0m\n\u001b[1;32m    284\u001b[0m         \u001b[0;32mif\u001b[0m \u001b[0mevaluate\u001b[0m\u001b[0;34m:\u001b[0m\u001b[0;34m\u001b[0m\u001b[0;34m\u001b[0m\u001b[0m\n\u001b[0;32m--> 285\u001b[0;31m             \u001b[0mevaluated\u001b[0m \u001b[0;34m=\u001b[0m \u001b[0mcls\u001b[0m\u001b[0;34m.\u001b[0m\u001b[0meval\u001b[0m\u001b[0;34m(\u001b[0m\u001b[0;34m*\u001b[0m\u001b[0margs\u001b[0m\u001b[0;34m)\u001b[0m\u001b[0;34m\u001b[0m\u001b[0;34m\u001b[0m\u001b[0m\n\u001b[0m\u001b[1;32m    286\u001b[0m             \u001b[0;32mif\u001b[0m \u001b[0mevaluated\u001b[0m \u001b[0;32mis\u001b[0m \u001b[0;32mnot\u001b[0m \u001b[0;32mNone\u001b[0m\u001b[0;34m:\u001b[0m\u001b[0;34m\u001b[0m\u001b[0;34m\u001b[0m\u001b[0m\n\u001b[1;32m    287\u001b[0m                 \u001b[0;32mreturn\u001b[0m \u001b[0mevaluated\u001b[0m\u001b[0;34m\u001b[0m\u001b[0;34m\u001b[0m\u001b[0m\n",
            "\u001b[0;32m/usr/local/lib/python3.7/dist-packages/sympy/functions/elementary/trigonometric.py\u001b[0m in \u001b[0;36meval\u001b[0;34m(cls, arg)\u001b[0m\n\u001b[1;32m   1038\u001b[0m                 \u001b[0;32mreturn\u001b[0m \u001b[0mAccumBounds\u001b[0m\u001b[0;34m(\u001b[0m\u001b[0mtan\u001b[0m\u001b[0;34m(\u001b[0m\u001b[0mmin\u001b[0m\u001b[0;34m)\u001b[0m\u001b[0;34m,\u001b[0m \u001b[0mtan\u001b[0m\u001b[0;34m(\u001b[0m\u001b[0mmax\u001b[0m\u001b[0;34m)\u001b[0m\u001b[0;34m)\u001b[0m\u001b[0;34m\u001b[0m\u001b[0;34m\u001b[0m\u001b[0m\n\u001b[1;32m   1039\u001b[0m \u001b[0;34m\u001b[0m\u001b[0m\n\u001b[0;32m-> 1040\u001b[0;31m         \u001b[0;32mif\u001b[0m \u001b[0marg\u001b[0m\u001b[0;34m.\u001b[0m\u001b[0mcould_extract_minus_sign\u001b[0m\u001b[0;34m(\u001b[0m\u001b[0;34m)\u001b[0m\u001b[0;34m:\u001b[0m\u001b[0;34m\u001b[0m\u001b[0;34m\u001b[0m\u001b[0m\n\u001b[0m\u001b[1;32m   1041\u001b[0m             \u001b[0;32mreturn\u001b[0m \u001b[0;34m-\u001b[0m\u001b[0mcls\u001b[0m\u001b[0;34m(\u001b[0m\u001b[0;34m-\u001b[0m\u001b[0marg\u001b[0m\u001b[0;34m)\u001b[0m\u001b[0;34m\u001b[0m\u001b[0;34m\u001b[0m\u001b[0m\n\u001b[1;32m   1042\u001b[0m \u001b[0;34m\u001b[0m\u001b[0m\n",
            "\u001b[0;31mAttributeError\u001b[0m: 'ImmutableDenseNDimArray' object has no attribute 'could_extract_minus_sign'"
          ]
        }
      ]
    }
  ]
}